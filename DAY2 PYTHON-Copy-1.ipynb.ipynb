{
 "cells": [
  {
   "cell_type": "code",
   "execution_count": 56,
   "id": "f3312f85",
   "metadata": {},
   "outputs": [
    {
     "name": "stdout",
     "output_type": "stream",
     "text": [
      "enter price10\n",
      "enter tax:2\n",
      "total= 12\n"
     ]
    }
   ],
   "source": [
    "price=int(input(\"enter price\"))\n",
    "tax=int(input(\"enter tax:\"))\n",
    "total=price+tax;\n",
    "print(\"total=\",total)"
   ]
  },
  {
   "cell_type": "code",
   "execution_count": 57,
   "id": "b077efb8",
   "metadata": {},
   "outputs": [
    {
     "name": "stdout",
     "output_type": "stream",
     "text": [
      "enter price100\n",
      "enter tax:20\n",
      "total= 120\n"
     ]
    }
   ],
   "source": [
    "price=int(input(\"enter price\"))\n",
    "tax=int(input(\"enter tax:\"))\n",
    "total=price+tax;\n",
    "print(\"total=\",total)"
   ]
  },
  {
   "cell_type": "code",
   "execution_count": 58,
   "id": "b7d40b35",
   "metadata": {},
   "outputs": [
    {
     "data": {
      "text/plain": [
       "False"
      ]
     },
     "execution_count": 58,
     "metadata": {},
     "output_type": "execute_result"
    }
   ],
   "source": [
    "is_student=True\n",
    "in_class=True\n",
    "in_ground=False\n",
    "is_student and in_ground\n",
    "\n"
   ]
  },
  {
   "cell_type": "code",
   "execution_count": 8,
   "id": "4e34b725",
   "metadata": {},
   "outputs": [
    {
     "data": {
      "text/plain": [
       "True"
      ]
     },
     "execution_count": 8,
     "metadata": {},
     "output_type": "execute_result"
    }
   ],
   "source": [
    "is_student=True\n",
    "in_class=True\n",
    "in_ground=False\n",
    "is_student or in_ground"
   ]
  },
  {
   "cell_type": "code",
   "execution_count": 9,
   "id": "807d81c2",
   "metadata": {},
   "outputs": [
    {
     "name": "stdout",
     "output_type": "stream",
     "text": [
      "True\n",
      "2893247185536\n",
      "2893247185728\n",
      "2893247185536\n"
     ]
    }
   ],
   "source": [
    "x=[12,8,7,3]\n",
    "y=[3,6,7,8]\n",
    "z=x\n",
    "print(x is z)\n",
    "print(id(x))\n",
    "print(id(y))\n",
    "print(id(z))"
   ]
  },
  {
   "cell_type": "code",
   "execution_count": 11,
   "id": "a72fcaa8",
   "metadata": {},
   "outputs": [
    {
     "name": "stdout",
     "output_type": "stream",
     "text": [
      "True\n",
      "True\n",
      "False\n"
     ]
    }
   ],
   "source": [
    "x=[\"hii\",\"hello\"]\n",
    "y=[\"hii\",\"hello\"]\n",
    "z=y\n",
    "print(y is z)\n",
    "print(x is not z)\n",
    "print(x!=y)"
   ]
  },
  {
   "cell_type": "markdown",
   "id": "a95f9b5b",
   "metadata": {},
   "source": [
    "# membership operators"
   ]
  },
  {
   "cell_type": "code",
   "execution_count": 12,
   "id": "20116ac9",
   "metadata": {},
   "outputs": [
    {
     "name": "stdout",
     "output_type": "stream",
     "text": [
      "False\n",
      "True\n"
     ]
    }
   ],
   "source": [
    "word=\"hello\"\n",
    "print(\"e\" not in word)\n",
    "print(\"k\" not in word)\n"
   ]
  },
  {
   "cell_type": "markdown",
   "id": "22352920",
   "metadata": {},
   "source": [
    "# bitwise operations"
   ]
  },
  {
   "cell_type": "code",
   "execution_count": 13,
   "id": "47ccb19e",
   "metadata": {},
   "outputs": [
    {
     "name": "stdout",
     "output_type": "stream",
     "text": [
      "0b101\n",
      "0b111\n",
      "10 & 11= 10\n",
      "10 | 11= 11\n",
      "10 ^ 11= 1\n",
      "~10= -11\n",
      "10>>2= 2\n",
      "10<<2= 40\n"
     ]
    }
   ],
   "source": [
    "print(bin(5))\n",
    "print(bin(7))\n",
    "print(\"10 & 11=\",10&11)\n",
    "print(\"10 | 11=\",10|11)\n",
    "print(\"10 ^ 11=\",10^11)\n",
    "print(\"~10=\",~10)\n",
    "print('10>>2=',10>>2)\n",
    "print('10<<2=',10<<2)"
   ]
  },
  {
   "cell_type": "markdown",
   "id": "b3f66e79",
   "metadata": {},
   "source": [
    "# if-else statement"
   ]
  },
  {
   "cell_type": "code",
   "execution_count": 18,
   "id": "7cc3e2a6",
   "metadata": {},
   "outputs": [
    {
     "name": "stdout",
     "output_type": "stream",
     "text": [
      "enter marks:87\n",
      "student passed the exam\n"
     ]
    }
   ],
   "source": [
    "pas=33\n",
    "marks=int(input(\"enter marks:\"))\n",
    "if(marks>pas):\n",
    "    print(\"student passed the exam\")\n",
    "else:\n",
    "    print(\"student failed\")"
   ]
  },
  {
   "cell_type": "markdown",
   "id": "584158ad",
   "metadata": {},
   "source": [
    "# class assignment(11-fri)"
   ]
  },
  {
   "cell_type": "code",
   "execution_count": 28,
   "id": "8a2bb895",
   "metadata": {},
   "outputs": [
    {
     "name": "stdout",
     "output_type": "stream",
     "text": [
      "enter years of service:12\n",
      "enter the salary:100000\n",
      "1100000.0\n"
     ]
    }
   ],
   "source": [
    "service=int(input(\"enter years of service:\"))\n",
    "salary=int(input(\"enter the salary:\"))\n",
    "if(service>10):\n",
    "    bonus=salary/10*100\n",
    "elif(10<=service<=6):\n",
    "    bonus=salary/8*100\n",
    "else:\n",
    "    bonus=salary/5*100\n",
    "\n",
    "\n",
    "net=salary+bonus\n",
    "print(net)"
   ]
  },
  {
   "cell_type": "markdown",
   "id": "050578b4",
   "metadata": {},
   "source": [
    "# while loop"
   ]
  },
  {
   "cell_type": "code",
   "execution_count": 33,
   "id": "ebd20dd3",
   "metadata": {},
   "outputs": [
    {
     "name": "stdout",
     "output_type": "stream",
     "text": [
      "enter n value:3\n",
      "sum= 6\n"
     ]
    }
   ],
   "source": [
    "n=int(input(\"enter n value:\"))\n",
    "sum=0\n",
    "i=1\n",
    "while(i<n):\n",
    "    sum+=n \n",
    "    i=i+1\n",
    "print(\"sum=\",sum);"
   ]
  },
  {
   "cell_type": "markdown",
   "id": "7d13bfbc",
   "metadata": {},
   "source": [
    "# indexing and slicing"
   ]
  },
  {
   "cell_type": "code",
   "execution_count": 38,
   "id": "f5172957",
   "metadata": {},
   "outputs": [
    {
     "data": {
      "text/plain": [
       "' there'"
      ]
     },
     "execution_count": 38,
     "metadata": {},
     "output_type": "execute_result"
    }
   ],
   "source": [
    "text=\"hii there\"\n",
    "text[3:]"
   ]
  },
  {
   "cell_type": "code",
   "execution_count": 39,
   "id": "fd5739e5",
   "metadata": {},
   "outputs": [
    {
     "data": {
      "text/plain": [
       "'hii '"
      ]
     },
     "execution_count": 39,
     "metadata": {},
     "output_type": "execute_result"
    }
   ],
   "source": [
    "text=\"hii there\"\n",
    "text[0:4]"
   ]
  },
  {
   "cell_type": "markdown",
   "id": "a458183d",
   "metadata": {},
   "source": [
    "# reversing"
   ]
  },
  {
   "cell_type": "code",
   "execution_count": 44,
   "id": "bb9d7942",
   "metadata": {},
   "outputs": [
    {
     "data": {
      "text/plain": [
       "'ereht iih'"
      ]
     },
     "execution_count": 44,
     "metadata": {},
     "output_type": "execute_result"
    }
   ],
   "source": [
    "text=\"hii there\"\n",
    "text[::-1]"
   ]
  },
  {
   "cell_type": "code",
   "execution_count": 48,
   "id": "4733c676",
   "metadata": {},
   "outputs": [
    {
     "data": {
      "text/plain": [
       "'HII THERE'"
      ]
     },
     "execution_count": 48,
     "metadata": {},
     "output_type": "execute_result"
    }
   ],
   "source": [
    "text.replace(\"hii\",\"hloo\")\n",
    "#replace hii with hloo\n",
    "'hii there'\n",
    "text.upper()\n",
    "'hey hii'\n",
    "text.upper()\n"
   ]
  },
  {
   "cell_type": "markdown",
   "id": "1868873a",
   "metadata": {},
   "source": [
    "# list"
   ]
  },
  {
   "cell_type": "code",
   "execution_count": 50,
   "id": "8f092401",
   "metadata": {},
   "outputs": [
    {
     "name": "stdout",
     "output_type": "stream",
     "text": [
      "total books in library= ['engineering_books', 'stories_books', 'business_books', 'logical_books']\n"
     ]
    }
   ],
   "source": [
    "list1=[\"engineering_books\",\"stories_books\"]\n",
    "list2=[\"business_books\",\"logical_books\"]\n",
    "print(\"total books in library=\",list1+list2);\n"
   ]
  },
  {
   "cell_type": "code",
   "execution_count": 53,
   "id": "56100278",
   "metadata": {},
   "outputs": [
    {
     "name": "stdout",
     "output_type": "stream",
     "text": [
      "['engineering_books', 'stories_books', 'novels']\n"
     ]
    }
   ],
   "source": [
    "list1=[\"engineering_books\",\"stories_books\"]\n",
    "list1.append(\"novels\")\n",
    "print(list1)"
   ]
  },
  {
   "cell_type": "markdown",
   "id": "d989423d",
   "metadata": {},
   "source": [
    "# list sorting"
   ]
  },
  {
   "cell_type": "code",
   "execution_count": 54,
   "id": "2429876c",
   "metadata": {},
   "outputs": [
    {
     "name": "stdout",
     "output_type": "stream",
     "text": [
      "[2, 4, 12, 16, 17, 33, 90]\n"
     ]
    }
   ],
   "source": [
    "list1=[4,33,2,16,90,12,17]\n",
    "ordered_list=sorted(list1)\n",
    "print(ordered_list)"
   ]
  },
  {
   "cell_type": "code",
   "execution_count": null,
   "id": "ada9f02c",
   "metadata": {},
   "outputs": [],
   "source": []
  }
 ],
 "metadata": {
  "kernelspec": {
   "display_name": "Python 3 (ipykernel)",
   "language": "python",
   "name": "python3"
  },
  "language_info": {
   "codemirror_mode": {
    "name": "ipython",
    "version": 3
   },
   "file_extension": ".py",
   "mimetype": "text/x-python",
   "name": "python",
   "nbconvert_exporter": "python",
   "pygments_lexer": "ipython3",
   "version": "3.11.4"
  }
 },
 "nbformat": 4,
 "nbformat_minor": 5
}
