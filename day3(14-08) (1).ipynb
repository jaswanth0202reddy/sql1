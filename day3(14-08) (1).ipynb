{
 "cells": [
  {
   "cell_type": "code",
   "execution_count": 7,
   "id": "ff43adba",
   "metadata": {},
   "outputs": [
    {
     "name": "stdout",
     "output_type": "stream",
     "text": [
      "[2, 7, 23, 45, 65, 77, 90]\n"
     ]
    }
   ],
   "source": [
    "marks=[23,7,90,45,65,2,77]\n",
    "marks.sort()\n",
    "print(marks)"
   ]
  },
  {
   "cell_type": "code",
   "execution_count": 8,
   "id": "c23e8b29",
   "metadata": {},
   "outputs": [
    {
     "name": "stdout",
     "output_type": "stream",
     "text": [
      "[90, 77, 65, 45, 23, 7, 2]\n"
     ]
    }
   ],
   "source": [
    "marks=[23,7,90,45,65,2,77]\n",
    "marks.sort(reverse=True)\n",
    "print(marks)"
   ]
  },
  {
   "cell_type": "code",
   "execution_count": 14,
   "id": "4f8edfaa",
   "metadata": {},
   "outputs": [
    {
     "data": {
      "text/plain": [
       "'hello'"
      ]
     },
     "execution_count": 14,
     "metadata": {},
     "output_type": "execute_result"
    }
   ],
   "source": [
    "list1=[\"hii\",\"hello\",\"yoo\"]\n",
    "list1[1]"
   ]
  },
  {
   "cell_type": "code",
   "execution_count": 16,
   "id": "da78514f",
   "metadata": {},
   "outputs": [
    {
     "name": "stdout",
     "output_type": "stream",
     "text": [
      "['hii', 'hello', 'yoo', 'how r u']\n"
     ]
    }
   ],
   "source": [
    "list1.append(\"how r u\")\n",
    "print(list1)"
   ]
  },
  {
   "cell_type": "code",
   "execution_count": 21,
   "id": "4e76450b",
   "metadata": {},
   "outputs": [
    {
     "name": "stdout",
     "output_type": "stream",
     "text": [
      "['hii', 'hello', 'who', 'who', 'who', 'yoo', 'how r u']\n"
     ]
    }
   ],
   "source": [
    "list1.insert(2,\"who\")\n",
    "print(list1)"
   ]
  },
  {
   "cell_type": "code",
   "execution_count": 23,
   "id": "909de6f8",
   "metadata": {},
   "outputs": [
    {
     "data": {
      "text/plain": [
       "4"
      ]
     },
     "execution_count": 23,
     "metadata": {},
     "output_type": "execute_result"
    }
   ],
   "source": [
    "list2=[24,4,56,76,53]\n",
    "max(list2)\n",
    "min(list2)"
   ]
  },
  {
   "cell_type": "markdown",
   "id": "0e0229a9",
   "metadata": {},
   "source": [
    "# sort and negative indexing"
   ]
  },
  {
   "cell_type": "code",
   "execution_count": 27,
   "id": "511e0736",
   "metadata": {},
   "outputs": [
    {
     "name": "stdout",
     "output_type": "stream",
     "text": [
      "[4, 24, 53, 56, 76]\n"
     ]
    },
    {
     "data": {
      "text/plain": [
       "'ereht iih'"
      ]
     },
     "execution_count": 27,
     "metadata": {},
     "output_type": "execute_result"
    }
   ],
   "source": [
    "list2.sort()\n",
    "print(list2)\n",
    "text=\"hii there\"\n",
    "text[::-1]"
   ]
  },
  {
   "cell_type": "code",
   "execution_count": 33,
   "id": "e24da434",
   "metadata": {},
   "outputs": [
    {
     "data": {
      "text/plain": [
       "5"
      ]
     },
     "execution_count": 33,
     "metadata": {},
     "output_type": "execute_result"
    }
   ],
   "source": [
    "#counting \n",
    "list2=[24,4,56,76,53]\n",
    "len(list2)"
   ]
  },
  {
   "cell_type": "code",
   "execution_count": 34,
   "id": "4c7972c5",
   "metadata": {},
   "outputs": [
    {
     "name": "stdout",
     "output_type": "stream",
     "text": [
      "[90, 77, 65, 45, 23, 7, 2]\n"
     ]
    }
   ],
   "source": [
    "marks=[23,7,90,45,65,2,77]\n",
    "marks.sort(reverse=True)\n",
    "print(marks)"
   ]
  },
  {
   "cell_type": "code",
   "execution_count": 36,
   "id": "3696aa6e",
   "metadata": {},
   "outputs": [
    {
     "name": "stdout",
     "output_type": "stream",
     "text": [
      "[]\n"
     ]
    }
   ],
   "source": [
    "#clear the list\n",
    "list2=[24,4,56,76,53]\n",
    "list2.clear()\n",
    "print(list2)"
   ]
  },
  {
   "cell_type": "code",
   "execution_count": 37,
   "id": "4f635f9e",
   "metadata": {},
   "outputs": [
    {
     "data": {
      "text/plain": [
       "' there'"
      ]
     },
     "execution_count": 37,
     "metadata": {},
     "output_type": "execute_result"
    }
   ],
   "source": [
    "text=\"hii there\"\n",
    "text[3:]"
   ]
  },
  {
   "cell_type": "markdown",
   "id": "e510758d",
   "metadata": {},
   "source": [
    "# membership"
   ]
  },
  {
   "cell_type": "code",
   "execution_count": 38,
   "id": "eb5909e3",
   "metadata": {},
   "outputs": [
    {
     "data": {
      "text/plain": [
       "True"
      ]
     },
     "execution_count": 38,
     "metadata": {},
     "output_type": "execute_result"
    }
   ],
   "source": [
    "nums=[1,3,4,32,67,84,34]\n",
    "item=32\n",
    "item in nums"
   ]
  },
  {
   "cell_type": "code",
   "execution_count": 39,
   "id": "a2c849c4",
   "metadata": {},
   "outputs": [
    {
     "data": {
      "text/plain": [
       "False"
      ]
     },
     "execution_count": 39,
     "metadata": {},
     "output_type": "execute_result"
    }
   ],
   "source": [
    "nums=[1,3,4,32,67,84,34]\n",
    "item=322\n",
    "item in nums"
   ]
  },
  {
   "cell_type": "code",
   "execution_count": 41,
   "id": "286120d7",
   "metadata": {},
   "outputs": [
    {
     "name": "stdout",
     "output_type": "stream",
     "text": [
      "1\n",
      "3\n",
      "4\n",
      "32\n",
      "67\n",
      "84\n",
      "34\n"
     ]
    }
   ],
   "source": [
    "nums=[1,3,4,32,67,84,34]\n",
    "for i in nums:\n",
    "    print(i)"
   ]
  },
  {
   "cell_type": "markdown",
   "id": "ad89fa5f",
   "metadata": {},
   "source": [
    "# counting a perticular element"
   ]
  },
  {
   "cell_type": "code",
   "execution_count": 42,
   "id": "90d3bba8",
   "metadata": {},
   "outputs": [
    {
     "data": {
      "text/plain": [
       "4"
      ]
     },
     "execution_count": 42,
     "metadata": {},
     "output_type": "execute_result"
    }
   ],
   "source": [
    "nums=[1,3,4,32,67,84,34,3,3,56,3]\n",
    "nums.count(3)\n"
   ]
  },
  {
   "cell_type": "markdown",
   "id": "00c9e652",
   "metadata": {},
   "source": [
    "# extend a list and return index"
   ]
  },
  {
   "cell_type": "code",
   "execution_count": 45,
   "id": "6a668fca",
   "metadata": {},
   "outputs": [
    {
     "name": "stdout",
     "output_type": "stream",
     "text": [
      "['engineering_books', 'stories_books', 'business_books', 'logical_books']\n"
     ]
    },
    {
     "data": {
      "text/plain": [
       "3"
      ]
     },
     "execution_count": 45,
     "metadata": {},
     "output_type": "execute_result"
    }
   ],
   "source": [
    "list1=[\"engineering_books\",\"stories_books\"]\n",
    "list2=[\"business_books\",\"logical_books\"]\n",
    "list1.extend(list2)\n",
    "print(list1)\n",
    "list1.index(\"logical_books\")"
   ]
  },
  {
   "cell_type": "markdown",
   "id": "6e9a23a4",
   "metadata": {},
   "source": [
    "# insert and del at specific position"
   ]
  },
  {
   "cell_type": "code",
   "execution_count": 47,
   "id": "faa6bfd4",
   "metadata": {},
   "outputs": [
    {
     "name": "stdout",
     "output_type": "stream",
     "text": [
      "['engineering_books', 'thinkbig_books', 'stories_books']\n"
     ]
    }
   ],
   "source": [
    "list1=is[\"engineering_books\",\"stories_books\"]\n",
    "list1.insert(1,\"thinkbig_books\")\n",
    "print(list1)"
   ]
  },
  {
   "cell_type": "code",
   "execution_count": 52,
   "id": "7c4f08a2",
   "metadata": {},
   "outputs": [
    {
     "name": "stdout",
     "output_type": "stream",
     "text": [
      "['stories_books']\n"
     ]
    }
   ],
   "source": [
    "list1=[\"engineering_books\",\"stories_books\"]\n",
    "list1.remove(\"engineering_books\")\n",
    "print(list1)"
   ]
  },
  {
   "cell_type": "markdown",
   "id": "82cd1397",
   "metadata": {},
   "source": [
    "# reversing a list"
   ]
  },
  {
   "cell_type": "code",
   "execution_count": 57,
   "id": "51866119",
   "metadata": {},
   "outputs": [
    {
     "name": "stdout",
     "output_type": "stream",
     "text": [
      "[3, 54, 90, 78, 43, 23]\n"
     ]
    }
   ],
   "source": [
    "l=[23,43,78,90,54,3]\n",
    "l.reverse()\n",
    "print(l)"
   ]
  },
  {
   "cell_type": "code",
   "execution_count": 70,
   "id": "49b82ebf",
   "metadata": {},
   "outputs": [
    {
     "name": "stdout",
     "output_type": "stream",
     "text": [
      "sorted list=: [80, 45, 30, 12, 7]\n",
      "revesed list is: [7, 12, 30, 45, 80]\n"
     ]
    }
   ],
   "source": [
    "v=[30,45,80,7,12]\n",
    "v.sort(reverse=True)\n",
    "print(\"sorted list=:\",v)\n",
    "v.reverse()\n",
    "print(\"revesed list is:\",v)"
   ]
  },
  {
   "cell_type": "code",
   "execution_count": 66,
   "id": "5f6dc913",
   "metadata": {},
   "outputs": [
    {
     "data": {
      "text/plain": [
       "[12, 7, 80, 45, 30]"
      ]
     },
     "execution_count": 66,
     "metadata": {},
     "output_type": "execute_result"
    }
   ],
   "source": [
    "v=[30,45,80,7,12]\n",
    "v[::-1]"
   ]
  },
  {
   "cell_type": "code",
   "execution_count": 67,
   "id": "88e77456",
   "metadata": {},
   "outputs": [
    {
     "data": {
      "text/plain": [
       "[12, 8, 6, 2, 15]"
      ]
     },
     "execution_count": 67,
     "metadata": {},
     "output_type": "execute_result"
    }
   ],
   "source": [
    "l2=[15,2,6,8,12]\n",
    "l2[::-1]"
   ]
  },
  {
   "cell_type": "code",
   "execution_count": 72,
   "id": "af3db846",
   "metadata": {},
   "outputs": [
    {
     "data": {
      "text/plain": [
       "[15, 12, 8, 6, 2]"
      ]
     },
     "execution_count": 72,
     "metadata": {},
     "output_type": "execute_result"
    }
   ],
   "source": [
    "l2=[15,2,6,8,12]\n",
    "l2.sort(reverse=True)\n",
    "l2"
   ]
  },
  {
   "cell_type": "code",
   "execution_count": 82,
   "id": "ff3d32e2",
   "metadata": {},
   "outputs": [
    {
     "name": "stdout",
     "output_type": "stream",
     "text": [
      "[1, 2, 3, 4, 5, 6, 7, 8, 9, 10, 11, 12, 13, 14, 15, 16, 17, 18, 19, 20]\n"
     ]
    },
    {
     "data": {
      "text/plain": [
       "[18, 19]"
      ]
     },
     "execution_count": 82,
     "metadata": {},
     "output_type": "execute_result"
    }
   ],
   "source": [
    "list3=[1,2,3,4,5,6,7,8,9,10,11,12,13,14,15,16,17,18,19,20]\n",
    "print(list3)\n",
    "list3[-3:-1]"
   ]
  },
  {
   "cell_type": "code",
   "execution_count": null,
   "id": "817c7f79",
   "metadata": {},
   "outputs": [],
   "source": []
  }
 ],
 "metadata": {
  "kernelspec": {
   "display_name": "Python 3 (ipykernel)",
   "language": "python",
   "name": "python3"
  },
  "language_info": {
   "codemirror_mode": {
    "name": "ipython",
    "version": 3
   },
   "file_extension": ".py",
   "mimetype": "text/x-python",
   "name": "python",
   "nbconvert_exporter": "python",
   "pygments_lexer": "ipython3",
   "version": "3.11.4"
  }
 },
 "nbformat": 4,
 "nbformat_minor": 5
}
