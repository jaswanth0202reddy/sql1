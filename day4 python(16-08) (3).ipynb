{
 "cells": [
  {
   "cell_type": "code",
   "execution_count": 4,
   "id": "34529478",
   "metadata": {},
   "outputs": [
    {
     "name": "stdout",
     "output_type": "stream",
     "text": [
      "90\n",
      "34\n"
     ]
    }
   ],
   "source": [
    "t1=(65,90,34,61,90)\n",
    "print(max(t1))\n",
    "print(min(t1))"
   ]
  },
  {
   "cell_type": "code",
   "execution_count": 5,
   "id": "24c8049f",
   "metadata": {},
   "outputs": [
    {
     "name": "stdout",
     "output_type": "stream",
     "text": [
      "('hii', 'hlo', 'yoo', 'how r u')\n"
     ]
    }
   ],
   "source": [
    "#contatenating\n",
    "t2=(\"hii\",\"hlo\",\"yoo\")\n",
    "t3=(\"how r u\",)\n",
    "t4=t2+t3\n",
    "print(t4)"
   ]
  },
  {
   "cell_type": "code",
   "execution_count": 8,
   "id": "b8bbad75",
   "metadata": {},
   "outputs": [
    {
     "name": "stdout",
     "output_type": "stream",
     "text": [
      "3\n",
      "5\n"
     ]
    }
   ],
   "source": [
    "#length\n",
    "print(len(t2))\n",
    "print(len(t1))"
   ]
  },
  {
   "cell_type": "code",
   "execution_count": 10,
   "id": "ead2e22f",
   "metadata": {},
   "outputs": [
    {
     "data": {
      "text/plain": [
       "(65, 90, 34, 61, 9, 65, 90, 34, 61, 9)"
      ]
     },
     "execution_count": 10,
     "metadata": {},
     "output_type": "execute_result"
    }
   ],
   "source": [
    "#repeting the tuple\n",
    "t1=(65,90,34,61,9)\n",
    "n=2\n",
    "n*t1\n"
   ]
  },
  {
   "cell_type": "code",
   "execution_count": 11,
   "id": "d9b016c9",
   "metadata": {},
   "outputs": [
    {
     "name": "stdout",
     "output_type": "stream",
     "text": [
      "65\n",
      "90\n",
      "34\n",
      "61\n",
      "9\n"
     ]
    }
   ],
   "source": [
    "#iterating\n",
    "t1=(65,90,34,61,9)\n",
    "for i in t1:\n",
    "    print(i)"
   ]
  },
  {
   "cell_type": "code",
   "execution_count": 14,
   "id": "5e2a35be",
   "metadata": {},
   "outputs": [
    {
     "data": {
      "text/plain": [
       "(65, 90, 34, 61)"
      ]
     },
     "execution_count": 14,
     "metadata": {},
     "output_type": "execute_result"
    }
   ],
   "source": [
    "#slicing\n",
    "t1=(65,90,34,61,9)\n",
    "t1[0:4]\n"
   ]
  },
  {
   "cell_type": "code",
   "execution_count": 19,
   "id": "8288ba14",
   "metadata": {},
   "outputs": [
    {
     "name": "stdout",
     "output_type": "stream",
     "text": [
      "(9, 61, 34, 90, 65)\n",
      "(61,)\n"
     ]
    }
   ],
   "source": [
    "#negative slicing\n",
    "t1=(65,90,34,61,9)\n",
    "print(t1[::-1])\n",
    "print(t1[-2:-1])"
   ]
  },
  {
   "cell_type": "markdown",
   "id": "0aa92bae",
   "metadata": {},
   "source": [
    "# Dictionary"
   ]
  },
  {
   "cell_type": "code",
   "execution_count": 26,
   "id": "5d2543b7",
   "metadata": {},
   "outputs": [
    {
     "name": "stdout",
     "output_type": "stream",
     "text": [
      "{1: ['ajay,15'], 2: ['arul', 18], 3: ['rin', 17]}\n",
      "after deleting:\n",
      "{1: ['ajay,15'], 3: ['rin', 17]}\n"
     ]
    }
   ],
   "source": [
    "details={1:[\"ajay,15\"],2:[\"arul\",18],3:[\"rin\",17]}\n",
    "print(details)\n",
    "del details[2]\n",
    "print(\"after deleting:\")\n",
    "print(details)"
   ]
  },
  {
   "cell_type": "code",
   "execution_count": 33,
   "id": "83abe788",
   "metadata": {},
   "outputs": [
    {
     "data": {
      "text/plain": [
       "62"
      ]
     },
     "execution_count": 33,
     "metadata": {},
     "output_type": "execute_result"
    }
   ],
   "source": [
    "#pop\n",
    "d2={1:61,2:62,3:63}\n",
    "d2.pop(2)"
   ]
  },
  {
   "cell_type": "code",
   "execution_count": 35,
   "id": "44049470",
   "metadata": {},
   "outputs": [
    {
     "data": {
      "text/plain": [
       "3"
      ]
     },
     "execution_count": 35,
     "metadata": {},
     "output_type": "execute_result"
    }
   ],
   "source": [
    "#length\n",
    "details={1:[\"ajay,15\"],2:[\"arul\",18],3:[\"rin\",17]}\n",
    "len(details)"
   ]
  },
  {
   "cell_type": "code",
   "execution_count": 39,
   "id": "89a106d6",
   "metadata": {},
   "outputs": [
    {
     "data": {
      "text/plain": [
       "\"{1: ['ajay,15'], 2: ['arul', 18], 3: ['rin', 17]}\""
      ]
     },
     "execution_count": 39,
     "metadata": {},
     "output_type": "execute_result"
    }
   ],
   "source": [
    "#conver dic into printable string\n",
    "details={1:[\"ajay,15\"],2:[\"arul\",18],3:[\"rin\",17]}\n",
    "str(details)"
   ]
  },
  {
   "cell_type": "code",
   "execution_count": 40,
   "id": "91123566",
   "metadata": {},
   "outputs": [
    {
     "data": {
      "text/plain": [
       "dict"
      ]
     },
     "execution_count": 40,
     "metadata": {},
     "output_type": "execute_result"
    }
   ],
   "source": [
    "#fing type\n",
    "details={1:[\"ajay,15\"],2:[\"arul\",18],3:[\"rin\",17]}\n",
    "type(details)"
   ]
  },
  {
   "cell_type": "code",
   "execution_count": 42,
   "id": "d2f447ca",
   "metadata": {},
   "outputs": [
    {
     "data": {
      "text/plain": [
       "{}"
      ]
     },
     "execution_count": 42,
     "metadata": {},
     "output_type": "execute_result"
    }
   ],
   "source": [
    "#clear\n",
    "details2={1:[\"ajay,15\"],2:[\"arul\",18],3:[\"rin\",17]}\n",
    "details2.clear()\n",
    "details2"
   ]
  },
  {
   "cell_type": "code",
   "execution_count": 43,
   "id": "7faa6f9c",
   "metadata": {},
   "outputs": [
    {
     "data": {
      "text/plain": [
       "{1: ['ajay,15'], 2: ['arul', 18], 3: ['rin', 17]}"
      ]
     },
     "execution_count": 43,
     "metadata": {},
     "output_type": "execute_result"
    }
   ],
   "source": [
    "details={1:[\"ajay,15\"],2:[\"arul\",18],3:[\"rin\",17]}\n",
    "details=details.copy()\n",
    "details"
   ]
  },
  {
   "cell_type": "code",
   "execution_count": 45,
   "id": "b65ffa22",
   "metadata": {},
   "outputs": [
    {
     "name": "stdout",
     "output_type": "stream",
     "text": [
      "dict_keys([1, 2, 3])\n"
     ]
    },
    {
     "data": {
      "text/plain": [
       "dict_values([['ajay,15'], ['arul', 18], ['rin', 17]])"
      ]
     },
     "execution_count": 45,
     "metadata": {},
     "output_type": "execute_result"
    }
   ],
   "source": [
    "#get keys and values\n",
    "print(details.keys())\n",
    "details.values()"
   ]
  },
  {
   "cell_type": "code",
   "execution_count": 49,
   "id": "e621e08c",
   "metadata": {},
   "outputs": [
    {
     "name": "stdout",
     "output_type": "stream",
     "text": [
      "details of student1: ['arul', 18]\n",
      "details of student1: None\n"
     ]
    }
   ],
   "source": [
    "#Retrives the values usig keys\n",
    "details={1:[\"ajay,15\"],2:[\"arul\",18],3:[\"rin\",17]}\n",
    "print(\"details of student1:\",details.get(2))\n",
    "print(\"details of student1:\",details.get(5))\n"
   ]
  },
  {
   "cell_type": "code",
   "execution_count": 51,
   "id": "9dff3b23",
   "metadata": {},
   "outputs": [
    {
     "name": "stdout",
     "output_type": "stream",
     "text": [
      "dictionary1: {'reg': None, 'age': None, 'cgpa': None}\n",
      "dictionary2: {'reg': 9, 'age': 9, 'cgpa': 9}\n"
     ]
    }
   ],
   "source": [
    "#create tuple\n",
    "t1=(\"reg\",\"age\",\"cgpa\")\n",
    "#tope cast the tuple into dictionary using fromkeys()\n",
    "#all elements are converted into keys\n",
    "\n",
    "#values for krys will be none\n",
    "dict1=dict.fromkeys(t1)\n",
    "print(\"dictionary1:\",dict1)\n",
    "dict2=dict.fromkeys(t1,9)\n",
    "print(\"dictionary2:\",dict2)"
   ]
  },
  {
   "cell_type": "code",
   "execution_count": 55,
   "id": "ea6a1c86",
   "metadata": {},
   "outputs": [
    {
     "name": "stdout",
     "output_type": "stream",
     "text": [
      "{1: ['ajay,15'], 2: ('amul', 19), 3: ['rin', 17]}\n"
     ]
    }
   ],
   "source": [
    "#update\n",
    "details={1:[\"ajay,15\"],2:[\"arul\",18],3:[\"rin\",17]}\n",
    "details[2]=\"amul\",19\n",
    "print(details)"
   ]
  },
  {
   "cell_type": "code",
   "execution_count": 56,
   "id": "b22c3494",
   "metadata": {},
   "outputs": [
    {
     "name": "stdout",
     "output_type": "stream",
     "text": [
      "{1: 'kakashi', 2: 'rin', 3: 'minato', 4: 'obito'}\n"
     ]
    }
   ],
   "source": [
    "#use zip to create dicti from list\n",
    "list1=[1,2,3,4]\n",
    "names=[\"kakashi\",\"rin\",\"minato\",\"obito\"]\n",
    "dict1=dict(zip(list1,names))\n",
    "print(dict1)"
   ]
  },
  {
   "cell_type": "code",
   "execution_count": null,
   "id": "5207b69d",
   "metadata": {},
   "outputs": [],
   "source": []
  }
 ],
 "metadata": {
  "kernelspec": {
   "display_name": "Python 3 (ipykernel)",
   "language": "python",
   "name": "python3"
  },
  "language_info": {
   "codemirror_mode": {
    "name": "ipython",
    "version": 3
   },
   "file_extension": ".py",
   "mimetype": "text/x-python",
   "name": "python",
   "nbconvert_exporter": "python",
   "pygments_lexer": "ipython3",
   "version": "3.11.4"
  }
 },
 "nbformat": 4,
 "nbformat_minor": 5
}
